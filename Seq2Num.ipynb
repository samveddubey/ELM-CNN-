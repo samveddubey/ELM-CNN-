{
  "nbformat": 4,
  "nbformat_minor": 0,
  "metadata": {
    "colab": {
      "provenance": [],
      "authorship_tag": "ABX9TyOylfry6gRKDhBVFlmX3hBn",
      "include_colab_link": true
    },
    "kernelspec": {
      "name": "python3",
      "display_name": "Python 3"
    },
    "language_info": {
      "name": "python"
    }
  },
  "cells": [
    {
      "cell_type": "markdown",
      "metadata": {
        "id": "view-in-github",
        "colab_type": "text"
      },
      "source": [
        "<a href=\"https://colab.research.google.com/github/samveddubey/ELM-CNN-/blob/main/Seq2Num.ipynb\" target=\"_parent\"><img src=\"https://colab.research.google.com/assets/colab-badge.svg\" alt=\"Open In Colab\"/></a>"
      ]
    },
    {
      "cell_type": "code",
      "execution_count": 17,
      "metadata": {
        "id": "cANtcQo6SjIJ",
        "colab": {
          "base_uri": "https://localhost:8080/"
        },
        "outputId": "7944f42c-ccde-4484-de59-baeeeb532dd0"
      },
      "outputs": [
        {
          "output_type": "stream",
          "name": "stdout",
          "text": [
            "[[0. 0. 0. ... 0. 0. 0.]\n",
            " [0. 0. 0. ... 0. 0. 0.]\n",
            " [0. 0. 0. ... 0. 0. 0.]\n",
            " ...\n",
            " [0. 0. 0. ... 0. 0. 0.]\n",
            " [0. 0. 0. ... 0. 0. 0.]\n",
            " [0. 0. 0. ... 0. 0. 0.]]\n"
          ]
        }
      ],
      "source": [
        "import numpy as np\n",
        "\n",
        "# RNA Sequence to Numerical Form Using OPT Algorithm\n",
        "def convert_rna_to_sparse_matrix(sequence):\n",
        "    # Define the mapping of 3-letter tuples to indices\n",
        "    tuple_mapping = {\n",
        "        'AAA': 1, 'AAC': 2, 'AAG': 3, 'AAU': 4,\n",
        "        'ACA': 5, 'ACC': 6, 'ACG': 7, 'ACU': 8,\n",
        "        'AGA': 9, 'AGC': 10, 'AGG': 11, 'AGU': 12,\n",
        "        'AUA': 13, 'AUC': 14, 'AUG': 15, 'AUU': 16,\n",
        "        'CAA': 17, 'CAC': 18, 'CAG': 19, 'CAU': 20,\n",
        "        'CCA': 21, 'CCC': 22, 'CCG': 23, 'CCU': 24,\n",
        "        'CGA': 25, 'CGC': 26, 'CGG': 27, 'CGU': 28,\n",
        "        'CUA': 29, 'CUC': 30, 'CUG': 31, 'CUU': 32,\n",
        "        'GAA': 33, 'GAC': 34, 'GAG': 35, 'GAU': 36,\n",
        "        'GCA': 37, 'GCC': 38, 'GCG': 39, 'GCU': 40,\n",
        "        'GGA': 41, 'GGC': 42, 'GGG': 43, 'GGU': 44,\n",
        "        'GUA': 45, 'GUC': 46, 'GUG': 47, 'GUU': 48,\n",
        "        'UAA': 49, 'UAC': 50, 'UAG': 51, 'UAU': 52,\n",
        "        'UCA': 53, 'UCC': 54, 'UCG': 55, 'UCU': 56,\n",
        "        'UGA': 57, 'UGC': 58, 'UGG': 59, 'UGU': 60,\n",
        "        'UUA': 61, 'UUC': 62, 'UUG': 63, 'UUU': 64\n",
        "    }\n",
        "\n",
        "    # Initialize sparse matrix\n",
        "    sparse_matrix = np.zeros((64, len(sequence) - 2))\n",
        "\n",
        "    # Populate sparse matrix\n",
        "    for j in range(len(sequence) - 2):\n",
        "        three_letter_tuple = sequence[j:j+3]\n",
        "        if three_letter_tuple in tuple_mapping:\n",
        "            index = tuple_mapping[three_letter_tuple]\n",
        "            sparse_matrix[index, j] = 1\n",
        "        else:\n",
        "            index = tuple_mapping[three_letter_tuple]\n",
        "            sparse_matrix[index, j] = 0\n",
        "\n",
        "\n",
        "    return sparse_matrix\n",
        "\n",
        "rnasequence=\"GGCCGGCAUGGUCCCAGCCUCCUCGCUGGCGCCGGCUGGGCAACACCAUUGCACUCCGGUGGCGAAUGGGAC\"\n",
        "sparsematrix=convert_rna_to_sparse_matrix(rnasequence)\n",
        "print(sparsematrix)"
      ]
    },
    {
      "cell_type": "code",
      "source": [],
      "metadata": {
        "id": "Vzrk3B5lOC8c"
      },
      "execution_count": 17,
      "outputs": []
    },
    {
      "cell_type": "code",
      "execution_count": 18,
      "metadata": {
        "colab": {
          "base_uri": "https://localhost:8080/"
        },
        "outputId": "7b140022-1db1-4ffc-8b8a-f5d096cda1a9",
        "id": "lCuaa8VZOJAw"
      },
      "outputs": [
        {
          "output_type": "stream",
          "name": "stdout",
          "text": [
            "[[0. 0. 0. ... 0. 0. 0.]\n",
            " [0. 0. 0. ... 0. 0. 0.]\n",
            " [0. 0. 0. ... 0. 0. 0.]\n",
            " ...\n",
            " [0. 0. 0. ... 0. 0. 0.]\n",
            " [0. 0. 0. ... 0. 0. 0.]\n",
            " [0. 0. 0. ... 0. 0. 0.]]\n"
          ]
        }
      ],
      "source": [
        "import numpy as np\n",
        "\n",
        "# RNA Sequence to Numerical Form Using OPT Algorithm\n",
        "def convert_protein_to_sparse_matrix(sequence):\n",
        "    # Define the mapping of 3-letter tuples to indices\n",
        "    tuple_mapping = {\n",
        "        'AAA': 1, 'AAC': 2, 'AAG': 3, 'AAU': 4,\n",
        "        'ACA': 5, 'ACC': 6, 'ACG': 7, 'ACU': 8,\n",
        "        'AGA': 9, 'AGC': 10, 'AGG': 11, 'AGU': 12,\n",
        "        'AUA': 13, 'AUC': 14, 'AUG': 15, 'AUU': 16,\n",
        "        'CAA': 17, 'CAC': 18, 'CAG': 19, 'CAU': 20,\n",
        "        'CCA': 21, 'CCC': 22, 'CCG': 23, 'CCU': 24,\n",
        "        'CGA': 25, 'CGC': 26, 'CGG': 27, 'CGU': 28,\n",
        "        'CUA': 29, 'CUC': 30, 'CUG': 31, 'CUU': 32,\n",
        "        'GAA': 33, 'GAC': 34, 'GAG': 35, 'GAU': 36,\n",
        "        'GCA': 37, 'GCC': 38, 'GCG': 39, 'GCU': 40,\n",
        "        'GGA': 41, 'GGC': 42, 'GGG': 43, 'GGU': 44,\n",
        "        'GUA': 45, 'GUC': 46, 'GUG': 47, 'GUU': 48,\n",
        "        'UAA': 49, 'UAC': 50, 'UAG': 51, 'UAU': 52,\n",
        "        'UCA': 53, 'UCC': 54, 'UCG': 55, 'UCU': 56,\n",
        "        'UGA': 57, 'UGC': 58, 'UGG': 59, 'UGU': 60,\n",
        "        'UUA': 61, 'UUC': 62, 'UUG': 63, 'UUU': 64\n",
        "    }\n",
        "\n",
        "    # Initialize sparse matrix\n",
        "    sparse_matrix = np.zeros((64, len(sequence) - 2))\n",
        "\n",
        "    # Populate sparse matrix\n",
        "    for j in range(len(sequence) - 2):\n",
        "        three_letter_tuple = sequence[j:j+3]\n",
        "        if three_letter_tuple in tuple_mapping:\n",
        "            index = tuple_mapping[three_letter_tuple]\n",
        "            sparse_matrix[index, j] = 1\n",
        "        else:\n",
        "            index = tuple_mapping[three_letter_tuple]\n",
        "            sparse_matrix[index, j] = 0\n",
        "\n",
        "\n",
        "    return sparse_matrix\n",
        "\n",
        "rnasequence=\"GGCCGGCAUGGUCCCAGCCUCCUCGCUGGCGCCGGCUGGGCAACACCAUUGCACUCCGGUGGCGAAUGGGAC\"\n",
        "sparsematrix=convert_rna_to_sparse_matrix(rnasequence)\n",
        "print(sparsematrix)"
      ]
    },
    {
      "cell_type": "code",
      "source": [
        "!pip install biopython"
      ],
      "metadata": {
        "id": "KgoYNUGpXxy5",
        "colab": {
          "base_uri": "https://localhost:8080/"
        },
        "outputId": "52709207-3d5f-4de6-a397-2f1791772539"
      },
      "execution_count": 19,
      "outputs": [
        {
          "output_type": "stream",
          "name": "stdout",
          "text": [
            "Requirement already satisfied: biopython in /usr/local/lib/python3.10/dist-packages (1.83)\n",
            "Requirement already satisfied: numpy in /usr/local/lib/python3.10/dist-packages (from biopython) (1.25.2)\n"
          ]
        }
      ]
    },
    {
      "cell_type": "code",
      "source": [
        "from Bio import SeqIO\n",
        "from Bio.SeqUtils import ProtParam\n",
        "from Bio.SeqUtils.ProtParam import ProteinAnalysis\n",
        "\n",
        "# Load the protein sequence\n",
        "protein_sequence = \"AVPETRPNHTIYINNLNEKIKKDELKKSLHAIFSRFGQILDILVSRSLKMRGQAFVIFKEVSSATNALRSMQGFPFYDKPMRIQYAKTDSDIIAKMK\"\n",
        "\n",
        "# Calculate the amino acid composition\n",
        "analysed_seq = ProteinAnalysis(protein_sequence)\n",
        "aacid_comp = analysed_seq.get_amino_acids_percent()\n",
        "\n",
        "print(\"\\nAmino acid percentage:\\n\", aacid_comp)\n",
        "\n",
        "# Calculate the molecular weight\n",
        "mol_weight = analysed_seq.molecular_weight()\n",
        "\n",
        "print(\"\\nMolecular weight: \", mol_weight)\n",
        "\n",
        "# Calculate the Aromaticity\n",
        "aromaticity = analysed_seq.aromaticity()\n",
        "\n",
        "print(\"\\nAromaticity: \", aromaticity)\n",
        "\n",
        "# Calculate the instability index\n",
        "instability_index = analysed_seq.instability_index()\n",
        "\n",
        "print(\"\\nInstability index: \", instability_index)\n"
      ],
      "metadata": {
        "colab": {
          "base_uri": "https://localhost:8080/"
        },
        "id": "sIijuPwHS7Cg",
        "outputId": "f79cf1ef-41d1-47fe-b553-65f354232b28"
      },
      "execution_count": 20,
      "outputs": [
        {
          "output_type": "stream",
          "name": "stdout",
          "text": [
            "\n",
            "Amino acid percentage:\n",
            " {'A': 0.07216494845360824, 'C': 0.0, 'D': 0.05154639175257732, 'E': 0.041237113402061855, 'F': 0.061855670103092786, 'G': 0.030927835051546393, 'H': 0.020618556701030927, 'I': 0.10309278350515463, 'K': 0.1134020618556701, 'L': 0.07216494845360824, 'M': 0.041237113402061855, 'N': 0.05154639175257732, 'P': 0.041237113402061855, 'Q': 0.041237113402061855, 'R': 0.061855670103092786, 'S': 0.08247422680412371, 'T': 0.041237113402061855, 'V': 0.041237113402061855, 'W': 0.0, 'Y': 0.030927835051546393}\n",
            "\n",
            "Molecular weight:  11189.969799999988\n",
            "\n",
            "Aromaticity:  0.09278350515463918\n",
            "\n",
            "Instability index:  43.76298969072163\n"
          ]
        }
      ]
    },
    {
      "cell_type": "code",
      "source": [
        "#The protein_scale function in the ProtParam module of Biopython allows you to calculate a scaled value for each amino acid in a protein sequence based on a given scale. The WindowSize parameter specifies the size of the window (number of amino acids) over which the scaling is applied, and the Edge parameter determines how the edges of the sequence are handled.\n",
        "from Bio.SeqUtils.ProtParam import ProteinAnalysis\n",
        "from Bio.SeqUtils import ProtParam\n",
        "\n",
        "\n",
        "\n",
        "from Bio.SeqUtils import ProtParam\n",
        "\n",
        "def generate_custom_scale(protein_sequence):\n",
        "    # Calculate properties of the sequence\n",
        "    analysed_seq = ProtParam.ProteinAnalysis(protein_sequence)\n",
        "\n",
        "    # Calculate amino acid composition\n",
        "    aacid_comp = analysed_seq.get_amino_acids_percent()\n",
        "\n",
        "    # Calculate molecular weight\n",
        "    mol_weight = analysed_seq.molecular_weight()\n",
        "\n",
        "    # Calculate aromaticity\n",
        "    aromaticity = analysed_seq.aromaticity()\n",
        "\n",
        "    # Calculate instability index\n",
        "    instability_index = analysed_seq.instability_index()\n",
        "\n",
        "    # Calculate secondary structure fraction\n",
        "    ss_fraction = analysed_seq.secondary_structure_fraction()\n",
        "\n",
        "    # Calculate the flexibility\n",
        "    flexibility = analysed_seq.flexibility()\n",
        "\n",
        "    # Define a scale based on the properties\n",
        "    scale = {}\n",
        "    for aa, percent in aacid_comp.items():\n",
        "        # Example: Assign a scale value based on the percentage of the amino acid in the sequence\n",
        "        scale[aa] = percent / 100.0  # Normalize the percentage to be between 0 and 1\n",
        "\n",
        "    #print(mol_weight + list(aromaticity))\n",
        "\n",
        "    # Example: Use other properties to modify the scale\n",
        "    for aa in scale:\n",
        "        scale[aa] *= (mol_weight + list(aromaticity) + list(instability_index) + list(ss_fraction) + list(flexibility)) / 5\n",
        "\n",
        "    return scale\n",
        "\n",
        "# Example usage\n",
        "protein_sequence = \"AVPETRPNHTIYINNLNEKIKKDELKKSLHAIFSRFGQILDILVSRSLKMRGQAFVIFKEVSSATNALRSMQGFPFYDKPMRIQYAKTDSDIIAKMK\"\n",
        "custom_scale = generate_custom_scale(protein_sequence)\n",
        "\n",
        "# Use the custom scale\n",
        "scaled_values = ProtParam.ProteinAnalysis(protein_sequence).protein_scale(custom_scale, window=5, edge='C')\n",
        "print(\"Scaled values:\", scaled_values)\n"
      ],
      "metadata": {
        "colab": {
          "base_uri": "https://localhost:8080/",
          "height": 367
        },
        "id": "GYnV2gYUTNuR",
        "outputId": "e8b951aa-a961-4295-b91a-7e287163800e"
      },
      "execution_count": 24,
      "outputs": [
        {
          "output_type": "error",
          "ename": "TypeError",
          "evalue": "'float' object is not iterable",
          "traceback": [
            "\u001b[0;31m---------------------------------------------------------------------------\u001b[0m",
            "\u001b[0;31mTypeError\u001b[0m                                 Traceback (most recent call last)",
            "\u001b[0;32m<ipython-input-24-a838111f0e4d>\u001b[0m in \u001b[0;36m<cell line: 47>\u001b[0;34m()\u001b[0m\n\u001b[1;32m     45\u001b[0m \u001b[0;31m# Example usage\u001b[0m\u001b[0;34m\u001b[0m\u001b[0;34m\u001b[0m\u001b[0m\n\u001b[1;32m     46\u001b[0m \u001b[0mprotein_sequence\u001b[0m \u001b[0;34m=\u001b[0m \u001b[0;34m\"AVPETRPNHTIYINNLNEKIKKDELKKSLHAIFSRFGQILDILVSRSLKMRGQAFVIFKEVSSATNALRSMQGFPFYDKPMRIQYAKTDSDIIAKMK\"\u001b[0m\u001b[0;34m\u001b[0m\u001b[0;34m\u001b[0m\u001b[0m\n\u001b[0;32m---> 47\u001b[0;31m \u001b[0mcustom_scale\u001b[0m \u001b[0;34m=\u001b[0m \u001b[0mgenerate_custom_scale\u001b[0m\u001b[0;34m(\u001b[0m\u001b[0mprotein_sequence\u001b[0m\u001b[0;34m)\u001b[0m\u001b[0;34m\u001b[0m\u001b[0;34m\u001b[0m\u001b[0m\n\u001b[0m\u001b[1;32m     48\u001b[0m \u001b[0;34m\u001b[0m\u001b[0m\n\u001b[1;32m     49\u001b[0m \u001b[0;31m# Use the custom scale\u001b[0m\u001b[0;34m\u001b[0m\u001b[0;34m\u001b[0m\u001b[0m\n",
            "\u001b[0;32m<ipython-input-24-a838111f0e4d>\u001b[0m in \u001b[0;36mgenerate_custom_scale\u001b[0;34m(protein_sequence)\u001b[0m\n\u001b[1;32m     39\u001b[0m     \u001b[0;31m# Example: Use other properties to modify the scale\u001b[0m\u001b[0;34m\u001b[0m\u001b[0;34m\u001b[0m\u001b[0m\n\u001b[1;32m     40\u001b[0m     \u001b[0;32mfor\u001b[0m \u001b[0maa\u001b[0m \u001b[0;32min\u001b[0m \u001b[0mscale\u001b[0m\u001b[0;34m:\u001b[0m\u001b[0;34m\u001b[0m\u001b[0;34m\u001b[0m\u001b[0m\n\u001b[0;32m---> 41\u001b[0;31m         \u001b[0mscale\u001b[0m\u001b[0;34m[\u001b[0m\u001b[0maa\u001b[0m\u001b[0;34m]\u001b[0m \u001b[0;34m*=\u001b[0m \u001b[0;34m(\u001b[0m\u001b[0msum\u001b[0m\u001b[0;34m(\u001b[0m\u001b[0mmol_weight\u001b[0m\u001b[0;34m)\u001b[0m \u001b[0;34m+\u001b[0m \u001b[0mlist\u001b[0m\u001b[0;34m(\u001b[0m\u001b[0maromaticity\u001b[0m\u001b[0;34m)\u001b[0m \u001b[0;34m+\u001b[0m \u001b[0mlist\u001b[0m\u001b[0;34m(\u001b[0m\u001b[0minstability_index\u001b[0m\u001b[0;34m)\u001b[0m \u001b[0;34m+\u001b[0m \u001b[0mlist\u001b[0m\u001b[0;34m(\u001b[0m\u001b[0mss_fraction\u001b[0m\u001b[0;34m)\u001b[0m \u001b[0;34m+\u001b[0m \u001b[0mlist\u001b[0m\u001b[0;34m(\u001b[0m\u001b[0mflexibility\u001b[0m\u001b[0;34m)\u001b[0m\u001b[0;34m)\u001b[0m \u001b[0;34m/\u001b[0m \u001b[0;36m5\u001b[0m\u001b[0;34m\u001b[0m\u001b[0;34m\u001b[0m\u001b[0m\n\u001b[0m\u001b[1;32m     42\u001b[0m \u001b[0;34m\u001b[0m\u001b[0m\n\u001b[1;32m     43\u001b[0m     \u001b[0;32mreturn\u001b[0m \u001b[0mscale\u001b[0m\u001b[0;34m\u001b[0m\u001b[0;34m\u001b[0m\u001b[0m\n",
            "\u001b[0;31mTypeError\u001b[0m: 'float' object is not iterable"
          ]
        }
      ]
    },
    {
      "cell_type": "code",
      "source": [],
      "metadata": {
        "id": "qfhjQIQnceFf"
      },
      "execution_count": null,
      "outputs": []
    }
  ]
}