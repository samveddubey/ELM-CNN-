{
  "nbformat": 4,
  "nbformat_minor": 0,
  "metadata": {
    "colab": {
      "provenance": [],
      "authorship_tag": "ABX9TyOHLGGysmkdJ0wyijhTqk+E",
      "include_colab_link": true
    },
    "kernelspec": {
      "name": "python3",
      "display_name": "Python 3"
    },
    "language_info": {
      "name": "python"
    }
  },
  "cells": [
    {
      "cell_type": "markdown",
      "metadata": {
        "id": "view-in-github",
        "colab_type": "text"
      },
      "source": [
        "<a href=\"https://colab.research.google.com/github/samveddubey/ELM-CNN-/blob/main/Seq2Num.ipynb\" target=\"_parent\"><img src=\"https://colab.research.google.com/assets/colab-badge.svg\" alt=\"Open In Colab\"/></a>"
      ]
    },
    {
      "cell_type": "code",
      "execution_count": 3,
      "metadata": {
        "id": "cANtcQo6SjIJ"
      },
      "outputs": [],
      "source": [
        "import numpy as np\n",
        "\n",
        "# RNA Sequence to Numerical Form Using OPT Algorithm\n",
        "def convert_rna_to_sparse_matrix(sequence):\n",
        "    # Define the mapping of 3-letter tuples to indices\n",
        "    tuple_mapping = {\n",
        "        'AAA': 1, 'AAC': 2, 'AAG': 3, 'AAU': 4,\n",
        "        'ACA': 5, 'ACC': 6, 'ACG': 7, 'ACU': 8,\n",
        "        'AGA': 9, 'AGC': 10, 'AGG': 11, 'AGU': 12,\n",
        "        'AUA': 13, 'AUC': 14, 'AUG': 15, 'AUU': 16,\n",
        "        'CAA': 17, 'CAC': 18, 'CAG': 19, 'CAU': 20,\n",
        "        'CCA': 21, 'CCC': 22, 'CCG': 23, 'CCU': 24,\n",
        "        'CGA': 25, 'CGC': 26, 'CGG': 27, 'CGU': 28,\n",
        "        'CUA': 29, 'CUC': 30, 'CUG': 31, 'CUU': 32,\n",
        "        'GAA': 33, 'GAC': 34, 'GAG': 35, 'GAU': 36,\n",
        "        'GCA': 37, 'GCC': 38, 'GCG': 39, 'GCU': 40,\n",
        "        'GGA': 41, 'GGC': 42, 'GGG': 43, 'GGU': 44,\n",
        "        'GUA': 45, 'GUC': 46, 'GUG': 47, 'GUU': 48,\n",
        "        'UAA': 49, 'UAC': 50, 'UAG': 51, 'UAU': 52,\n",
        "        'UCA': 53, 'UCC': 54, 'UCG': 55, 'UCU': 56,\n",
        "        'UGA': 57, 'UGC': 58, 'UGG': 59, 'UGU': 60,\n",
        "        'UUA': 61, 'UUC': 62, 'UUG': 63, 'UUU': 64\n",
        "    }\n",
        "\n",
        "    # Initialize sparse matrix\n",
        "    sparse_matrix = np.zeros((64, len(sequence) - 2))\n",
        "\n",
        "    # Populate sparse matrix\n",
        "    for j in range(len(sequence) - 2):\n",
        "        three_letter_tuple = sequence[j:j+3]\n",
        "        if three_letter_tuple in tuple_mapping:\n",
        "            index = tuple_mapping[three_letter_tuple]\n",
        "            sparse_matrix[index, j] = 1\n",
        "\n",
        "    return sparse_matrix\n",
        "\n"
      ]
    },
    {
      "cell_type": "code",
      "source": [
        "!pip install biopython\n"
      ],
      "metadata": {
        "colab": {
          "base_uri": "https://localhost:8080/"
        },
        "id": "g-rZ5J-dVSSY",
        "outputId": "c0f829bf-ca58-4bdf-9a78-eaef870578e1"
      },
      "execution_count": 6,
      "outputs": [
        {
          "output_type": "stream",
          "name": "stdout",
          "text": [
            "Collecting biopython\n",
            "  Downloading biopython-1.83-cp310-cp310-manylinux_2_17_x86_64.manylinux2014_x86_64.whl (3.1 MB)\n",
            "\u001b[2K     \u001b[90m━━━━━━━━━━━━━━━━━━━━━━━━━━━━━━━━━━━━━━━━\u001b[0m \u001b[32m3.1/3.1 MB\u001b[0m \u001b[31m12.3 MB/s\u001b[0m eta \u001b[36m0:00:00\u001b[0m\n",
            "\u001b[?25hRequirement already satisfied: numpy in /usr/local/lib/python3.10/dist-packages (from biopython) (1.25.2)\n",
            "Installing collected packages: biopython\n",
            "Successfully installed biopython-1.83\n"
          ]
        }
      ]
    },
    {
      "cell_type": "code",
      "source": [
        "from Bio.Blast import NCBIWWW\n",
        "from Bio.Blast import NCBIXML\n",
        "from Bio import SeqIO\n",
        "\n",
        "def get_pssm_matrix(protein_sequence):\n",
        "    result_handle = NCBIWWW.qblast(\"psiblast\", \"swissprot\", protein_sequence, entrez_query='\"all\"[Filter]')\n",
        "    blast_record = NCBIXML.read(result_handle)\n",
        "    result_handle.close()\n",
        "\n",
        "    pssm = []\n",
        "    for alignment in blast_record.alignments:\n",
        "        for hsp in alignment.hsps:\n",
        "            pssm.append(hsp.match)\n",
        "\n",
        "    # Convert the PSSM into a matrix\n",
        "    pssm_matrix = []\n",
        "    for line in pssm:\n",
        "        row = []\n",
        "        for char in line:\n",
        "            if char == '|':\n",
        "                row.append(1)\n",
        "            else:\n",
        "                row.append(0)\n",
        "        pssm_matrix.append(row)\n",
        "\n",
        "    return pssm_matrix\n"
      ],
      "metadata": {
        "id": "kD47i5S6Xepj"
      },
      "execution_count": 8,
      "outputs": []
    },
    {
      "cell_type": "code",
      "source": [],
      "metadata": {
        "id": "KgoYNUGpXxy5"
      },
      "execution_count": null,
      "outputs": []
    }
  ]
}