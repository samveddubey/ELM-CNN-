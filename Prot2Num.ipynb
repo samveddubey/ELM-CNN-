{
  "nbformat": 4,
  "nbformat_minor": 0,
  "metadata": {
    "colab": {
      "provenance": [],
      "authorship_tag": "ABX9TyPKtcCBowHWXWraJLcNumRk",
      "include_colab_link": true
    },
    "kernelspec": {
      "name": "python3",
      "display_name": "Python 3"
    },
    "language_info": {
      "name": "python"
    }
  },
  "cells": [
    {
      "cell_type": "markdown",
      "metadata": {
        "id": "view-in-github",
        "colab_type": "text"
      },
      "source": [
        "<a href=\"https://colab.research.google.com/github/samveddubey/ELM-CNN-/blob/main/Prot2Num.ipynb\" target=\"_parent\"><img src=\"https://colab.research.google.com/assets/colab-badge.svg\" alt=\"Open In Colab\"/></a>"
      ]
    },
    {
      "cell_type": "code",
      "source": [
        "!pip install biopython"
      ],
      "metadata": {
        "colab": {
          "base_uri": "https://localhost:8080/"
        },
        "id": "RMp1Zb3stSs2",
        "outputId": "55cde045-a41d-4e3e-d135-e8bdd4eeef5b"
      },
      "execution_count": 1,
      "outputs": [
        {
          "output_type": "stream",
          "name": "stdout",
          "text": [
            "Collecting biopython\n",
            "  Downloading biopython-1.83-cp310-cp310-manylinux_2_17_x86_64.manylinux2014_x86_64.whl (3.1 MB)\n",
            "\u001b[2K     \u001b[90m━━━━━━━━━━━━━━━━━━━━━━━━━━━━━━━━━━━━━━━━\u001b[0m \u001b[32m3.1/3.1 MB\u001b[0m \u001b[31m25.0 MB/s\u001b[0m eta \u001b[36m0:00:00\u001b[0m\n",
            "\u001b[?25hRequirement already satisfied: numpy in /usr/local/lib/python3.10/dist-packages (from biopython) (1.25.2)\n",
            "Installing collected packages: biopython\n",
            "Successfully installed biopython-1.83\n"
          ]
        }
      ]
    },
    {
      "cell_type": "code",
      "execution_count": 7,
      "metadata": {
        "colab": {
          "base_uri": "https://localhost:8080/"
        },
        "id": "vQ-OK-5LsSoO",
        "outputId": "287cba55-fd0a-401e-e505-6ce157c3832e"
      },
      "outputs": [
        {
          "output_type": "stream",
          "name": "stdout",
          "text": [
            "Numerical matrix:\n",
            "[[ 0.8  0.   0.   0.   0. ]\n",
            " [ 0.8 -0.7  0.   0.   0. ]\n",
            " [ 0.8 -0.7 -0.5  0.   0. ]\n",
            " [ 0.8 -0.7 -0.5  1.   0. ]\n",
            " [ 0.8 -0.7 -0.5  1.  -0.7]\n",
            " [-0.7 -0.5  1.  -0.7  0.5]\n",
            " [-0.5  1.  -0.7  0.5  0.5]\n",
            " [ 1.  -0.7  0.5  0.5  0.8]\n",
            " [-0.7  0.5  0.5  0.8  0.6]\n",
            " [ 0.5  0.5  0.8  0.6 -1.2]\n",
            " [ 0.5  0.8  0.6 -1.2 -0.5]\n",
            " [ 0.8  0.6 -1.2 -0.5  1. ]\n",
            " [ 0.6 -1.2 -0.5  1.  -1.2]\n",
            " [-1.2 -0.5  1.  -1.2 -0.5]\n",
            " [-0.5  1.  -1.2 -0.5 -0.8]\n",
            " [ 1.  -1.2 -0.5 -0.8 -0.7]\n",
            " [-1.2 -0.5 -0.8 -0.7  0. ]\n",
            " [-0.5 -0.8 -0.7  0.   0.5]\n",
            " [-0.8 -0.7  0.   0.5  0. ]\n",
            " [-0.7  0.   0.5  0.   0.8]\n",
            " [ 0.   0.5  0.   0.8  0.8]\n",
            " [ 0.5  0.   0.8  0.8 -0.5]\n",
            " [ 0.   0.8  0.8 -0.5  0.4]\n",
            " [ 0.8  0.8 -0.5  0.4 -1.2]\n",
            " [ 0.8 -0.5  0.4 -1.2 -0.5]\n",
            " [-0.5  0.4 -1.2 -0.5  0.5]\n",
            " [ 0.4 -1.2 -0.5  0.5  1. ]\n",
            " [-1.2 -0.5  0.5  1.  -0.8]\n",
            " [-0.5  0.5  1.  -0.8 -0.5]\n",
            " [ 0.5  1.  -0.8 -0.5 -0.7]\n",
            " [ 1.  -0.8 -0.5 -0.7 -0.5]\n",
            " [-0.8 -0.5 -0.7 -0.5  0. ]\n",
            " [-0.5 -0.7 -0.5  0.  -0.5]\n",
            " [-0.7 -0.5  0.  -0.5  1.8]\n",
            " [-0.5  0.  -0.5  1.8 -0.5]\n",
            " [ 0.  -0.5  1.8 -0.5 -1.2]\n",
            " [-0.5  1.8 -0.5 -1.2  0.5]\n",
            " [ 1.8 -0.5 -1.2  0.5  0.6]\n",
            " [-0.5 -1.2  0.5  0.6 -0.5]\n",
            " [-1.2  0.5  0.6 -0.5  1. ]\n",
            " [ 0.5  0.6 -0.5  1.   1. ]\n",
            " [ 0.6 -0.5  1.   1.  -1.2]\n",
            " [-0.5  1.   1.  -1.2 -0.5]\n",
            " [ 1.   1.  -1.2 -0.5 -1.2]\n",
            " [ 1.  -1.2 -0.5 -1.2  0. ]\n",
            " [-1.2 -0.5 -1.2  0.   1. ]\n",
            " [-0.5 -1.2  0.   1.   0. ]\n",
            " [-1.2  0.   1.   0.  -1.2]\n",
            " [ 0.   1.   0.  -1.2  0.5]\n",
            " [ 1.   0.  -1.2  0.5  0.5]\n",
            " [ 0.  -1.2  0.5  0.5 -1.2]\n",
            " [-1.2  0.5  0.5 -1.2 -1.2]\n",
            " [ 0.5  0.5 -1.2 -1.2  0.5]\n",
            " [ 0.5 -1.2 -1.2  0.5 -0.5]\n",
            " [-1.2 -1.2  0.5 -0.5 -1.2]\n",
            " [-1.2  0.5 -0.5 -1.2  1. ]\n",
            " [ 0.5 -0.5 -1.2  1.   0.5]\n",
            " [-0.5 -1.2  1.   0.5  0.5]\n",
            " [-1.2  1.   0.5  0.5 -0.5]\n",
            " [ 1.   0.5  0.5 -0.5  0. ]]\n",
            "60\n"
          ]
        }
      ],
      "source": [
        "\n",
        "from Bio.SeqUtils import ProtParam\n",
        "import numpy as np\n",
        "\n",
        "def convert_to_numerical_matrix(protein_sequence, scale, window_size, edge):\n",
        "    # Calculate scaled values using protein_scale\n",
        "    scaled_values = ProtParam.ProteinAnalysis(protein_sequence).protein_scale(scale, window=window_size, edge=edge)\n",
        "\n",
        "    # Convert scaled_values to a numerical matrix\n",
        "    matrix = []\n",
        "    for i in range(len(protein_sequence)):\n",
        "        if i < window_size - 1:\n",
        "            # Padding for the edge treatment\n",
        "            padding = window_size - 1 - i\n",
        "            subsequence = protein_sequence[:i+1] + 'X'*padding\n",
        "        else:\n",
        "            subsequence = protein_sequence[i-window_size+1:i+1]\n",
        "\n",
        "        # Convert subsequence to numerical values based on the scale\n",
        "        numerical_values = [scale[aa] if aa in scale else 0 for aa in subsequence]\n",
        "        matrix.append(numerical_values)\n",
        "\n",
        "    return np.array(matrix)\n",
        "\n",
        "# Define a custom scale (example scale)\n",
        "scale = {'A': 0.5, 'R': -1.2, 'N': -0.5, 'D': -0.5, 'C': 0.4, 'Q': -0.5, 'E': -0.5, 'G': 0, 'H': -0.5, 'I': 1,\n",
        "         'L': 1, 'K': -1.2, 'M': 0.8, 'F': 1.8, 'P': 0, 'S': -0.8, 'T': -0.7, 'W': 1.6, 'Y': 1.6, 'V': 0.6}\n",
        "\n",
        "# Example protein sequence\n",
        "protein_sequence = \"MTEITAAMVKELRESTGAGMMDCKNALSETNGDFDKAVQLLREKGLGKAAKKADRLAAEG\"\n",
        "\n",
        "# Define window size and edge treatment\n",
        "window_size = 5\n",
        "edge = 0.4\n",
        "\n",
        "# Convert protein sequence to numerical matrix\n",
        "numerical_matrix = convert_to_numerical_matrix(protein_sequence, scale, window_size, edge)\n",
        "\n",
        "print(\"Numerical matrix:\")\n",
        "print(numerical_matrix)\n",
        "print(len(numerical_matrix))\n",
        "\n",
        "\n"
      ]
    },
    {
      "cell_type": "code",
      "source": [],
      "metadata": {
        "id": "XDl1Xti8tp4j"
      },
      "execution_count": null,
      "outputs": []
    }
  ]
}